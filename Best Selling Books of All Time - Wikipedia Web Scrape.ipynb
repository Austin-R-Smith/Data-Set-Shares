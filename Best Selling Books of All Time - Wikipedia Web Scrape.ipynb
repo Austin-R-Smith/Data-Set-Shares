{
 "cells": [
  {
   "cell_type": "markdown",
   "id": "ffac7764",
   "metadata": {},
   "source": [
    "## Wikipedia Most Sold Books"
   ]
  },
  {
   "cell_type": "code",
   "execution_count": 1,
   "id": "eddc6777",
   "metadata": {},
   "outputs": [],
   "source": [
    "import requests\n",
    "from bs4 import BeautifulSoup\n",
    "import pandas as pd"
   ]
  },
  {
   "cell_type": "code",
   "execution_count": 2,
   "id": "d13ce1c9",
   "metadata": {},
   "outputs": [],
   "source": [
    "# extra the HTML file\n",
    "\n",
    "url_path = ('https://en.wikipedia.org/wiki/List_of_best-selling_books')\n",
    "html_text = requests.get(url_path).text"
   ]
  },
  {
   "cell_type": "code",
   "execution_count": 3,
   "id": "f840f23b",
   "metadata": {},
   "outputs": [],
   "source": [
    "# see what it looks like\n",
    "\n",
    "soup = BeautifulSoup(html_text)\n",
    "#print(soup.prettify())"
   ]
  },
  {
   "cell_type": "code",
   "execution_count": 4,
   "id": "8f886d98",
   "metadata": {},
   "outputs": [],
   "source": [
    "# I only want the lists of the best-selling individual books\n",
    "# there are 5 tables of those, split out into those that sold more than 100M copies,\n",
    "# those that sold 50M-100M copies, 30-50M, 20-30M, and 10-20M\n",
    "# extract the tables, since they have the list of books in them\n",
    "\n",
    "wiki_tables = soup.find_all('table', {'class': 'wikitable sortable'})\n",
    "\n",
    "# repeat this for all of the tables \n",
    "first_table = wiki_tables[0].find_all(\"tr\")\n",
    "second_table = wiki_tables[1].find_all(\"tr\")\n",
    "third_table = wiki_tables[2].find_all(\"tr\")\n",
    "fourth_table = wiki_tables[3].find_all(\"tr\")\n",
    "fifth_table = wiki_tables[4].find_all(\"tr\")\n"
   ]
  },
  {
   "cell_type": "code",
   "execution_count": 5,
   "id": "17953bb8",
   "metadata": {},
   "outputs": [],
   "source": [
    "# add them each to lists\n",
    "\n",
    "first_list = []\n",
    "\n",
    "for tr in first_table:\n",
    "    td = tr.find_all('td')\n",
    "    row = [ele.text.strip() for ele in td]\n",
    "    first_list.append(row)\n",
    "\n",
    "second_list = []\n",
    "\n",
    "for tr in second_table:\n",
    "    td = tr.find_all('td')\n",
    "    row = [ele.text.strip() for ele in td]\n",
    "    second_list.append(row)\n",
    "    \n",
    "third_list = []\n",
    "\n",
    "for tr in third_table:\n",
    "    td = tr.find_all('td')\n",
    "    row = [ele.text.strip() for ele in td]\n",
    "    third_list.append(row)\n",
    "    \n",
    "fourth_list = []\n",
    "\n",
    "for tr in fourth_table:\n",
    "    td = tr.find_all('td')\n",
    "    row = [ele.text.strip() for ele in td]\n",
    "    fourth_list.append(row)\n",
    "    \n",
    "fifth_list = []\n",
    "\n",
    "for tr in fifth_table:\n",
    "    td = tr.find_all('td')\n",
    "    row = [ele.text.strip() for ele in td]\n",
    "    fifth_list.append(row)"
   ]
  },
  {
   "cell_type": "code",
   "execution_count": 6,
   "id": "188123c0",
   "metadata": {},
   "outputs": [
    {
     "data": {
      "text/plain": [
       "[[],\n",
       " ['Totto-chan, the Little Girl at the Window (窓ぎわのトットちゃん)',\n",
       "  'Tetsuko Kuroyanagi',\n",
       "  'Japanese',\n",
       "  '1981',\n",
       "  '18 million (in Japan and China)[113]'],\n",
       " ['Matilda', 'Roald Dahl', 'English', '1988', '17 million [114]'],\n",
       " ['The Book Thief', 'Markus Zusak', 'English', '2005', '16 million [115]'],\n",
       " ['The Horse Whisperer',\n",
       "  'Nicholas Evans',\n",
       "  'English',\n",
       "  '1995',\n",
       "  '16 million[116]'],\n",
       " ['Goodnight Moon',\n",
       "  'Margaret Wise Brown',\n",
       "  'English',\n",
       "  '1947',\n",
       "  '16 million[117]'],\n",
       " ['The Neverending Story (Die unendliche Geschichte)',\n",
       "  'Michael Ende',\n",
       "  'German',\n",
       "  '1979',\n",
       "  '16 million[118]'],\n",
       " ['Fifty Shades of Grey',\n",
       "  'E. L. James',\n",
       "  'English',\n",
       "  '2011',\n",
       "  '15.2 million in U.S.[119]'],\n",
       " ['The Outsiders', 'S. E. Hinton', 'English', '1967', '15 million[120]'],\n",
       " ['Guess How Much I Love You',\n",
       "  'Sam McBratney',\n",
       "  'English',\n",
       "  '1994',\n",
       "  '15 million[121]']]"
      ]
     },
     "execution_count": 6,
     "metadata": {},
     "output_type": "execute_result"
    }
   ],
   "source": [
    "fifth_list[:10] # do a quick check of each table"
   ]
  },
  {
   "cell_type": "code",
   "execution_count": 7,
   "id": "728b9e63",
   "metadata": {},
   "outputs": [],
   "source": [
    "# add all of the lists together\n",
    "\n",
    "best_sellers = first_list + second_list + third_list + fourth_list + fifth_list"
   ]
  },
  {
   "cell_type": "code",
   "execution_count": 30,
   "id": "59971c36",
   "metadata": {},
   "outputs": [
    {
     "ename": "AttributeError",
     "evalue": "'DataFrame' object has no attribute 'desc'",
     "output_type": "error",
     "traceback": [
      "\u001b[0;31m---------------------------------------------------------------------------\u001b[0m",
      "\u001b[0;31mAttributeError\u001b[0m                            Traceback (most recent call last)",
      "\u001b[0;32m<ipython-input-30-0918c4a7c516>\u001b[0m in \u001b[0;36m<module>\u001b[0;34m\u001b[0m\n\u001b[1;32m      3\u001b[0m \u001b[0mdf\u001b[0m \u001b[0;34m=\u001b[0m \u001b[0mpd\u001b[0m\u001b[0;34m.\u001b[0m\u001b[0mDataFrame\u001b[0m\u001b[0;34m(\u001b[0m\u001b[0mbest_sellers\u001b[0m\u001b[0;34m,\u001b[0m \u001b[0mcolumns\u001b[0m\u001b[0;34m=\u001b[0m\u001b[0;34m[\u001b[0m\u001b[0;34m'book'\u001b[0m\u001b[0;34m,\u001b[0m \u001b[0;34m'author'\u001b[0m\u001b[0;34m,\u001b[0m \u001b[0;34m'original_language'\u001b[0m\u001b[0;34m,\u001b[0m \u001b[0;34m'first_published'\u001b[0m\u001b[0;34m,\u001b[0m \u001b[0;34m'approximate_sales'\u001b[0m\u001b[0;34m,\u001b[0m \u001b[0;34m'genre'\u001b[0m\u001b[0;34m]\u001b[0m\u001b[0;34m)\u001b[0m\u001b[0;34m\u001b[0m\u001b[0;34m\u001b[0m\u001b[0m\n\u001b[1;32m      4\u001b[0m \u001b[0mdf\u001b[0m \u001b[0;34m=\u001b[0m \u001b[0mdf\u001b[0m\u001b[0;34m.\u001b[0m\u001b[0mdropna\u001b[0m\u001b[0;34m(\u001b[0m\u001b[0mhow\u001b[0m\u001b[0;34m=\u001b[0m\u001b[0;34m'all'\u001b[0m\u001b[0;34m)\u001b[0m\u001b[0;34m.\u001b[0m\u001b[0mreset_index\u001b[0m\u001b[0;34m(\u001b[0m\u001b[0mdrop\u001b[0m\u001b[0;34m=\u001b[0m\u001b[0;32mTrue\u001b[0m\u001b[0;34m)\u001b[0m\u001b[0;34m\u001b[0m\u001b[0;34m\u001b[0m\u001b[0m\n\u001b[0;32m----> 5\u001b[0;31m \u001b[0mdf\u001b[0m\u001b[0;34m.\u001b[0m\u001b[0mdesc\u001b[0m\u001b[0;34m(\u001b[0m\u001b[0;34m)\u001b[0m\u001b[0;34m\u001b[0m\u001b[0;34m\u001b[0m\u001b[0m\n\u001b[0m",
      "\u001b[0;32m~/opt/anaconda3/lib/python3.8/site-packages/pandas/core/generic.py\u001b[0m in \u001b[0;36m__getattr__\u001b[0;34m(self, name)\u001b[0m\n\u001b[1;32m   5463\u001b[0m             \u001b[0;32mif\u001b[0m \u001b[0mself\u001b[0m\u001b[0;34m.\u001b[0m\u001b[0m_info_axis\u001b[0m\u001b[0;34m.\u001b[0m\u001b[0m_can_hold_identifiers_and_holds_name\u001b[0m\u001b[0;34m(\u001b[0m\u001b[0mname\u001b[0m\u001b[0;34m)\u001b[0m\u001b[0;34m:\u001b[0m\u001b[0;34m\u001b[0m\u001b[0;34m\u001b[0m\u001b[0m\n\u001b[1;32m   5464\u001b[0m                 \u001b[0;32mreturn\u001b[0m \u001b[0mself\u001b[0m\u001b[0;34m[\u001b[0m\u001b[0mname\u001b[0m\u001b[0;34m]\u001b[0m\u001b[0;34m\u001b[0m\u001b[0;34m\u001b[0m\u001b[0m\n\u001b[0;32m-> 5465\u001b[0;31m             \u001b[0;32mreturn\u001b[0m \u001b[0mobject\u001b[0m\u001b[0;34m.\u001b[0m\u001b[0m__getattribute__\u001b[0m\u001b[0;34m(\u001b[0m\u001b[0mself\u001b[0m\u001b[0;34m,\u001b[0m \u001b[0mname\u001b[0m\u001b[0;34m)\u001b[0m\u001b[0;34m\u001b[0m\u001b[0;34m\u001b[0m\u001b[0m\n\u001b[0m\u001b[1;32m   5466\u001b[0m \u001b[0;34m\u001b[0m\u001b[0m\n\u001b[1;32m   5467\u001b[0m     \u001b[0;32mdef\u001b[0m \u001b[0m__setattr__\u001b[0m\u001b[0;34m(\u001b[0m\u001b[0mself\u001b[0m\u001b[0;34m,\u001b[0m \u001b[0mname\u001b[0m\u001b[0;34m:\u001b[0m \u001b[0mstr\u001b[0m\u001b[0;34m,\u001b[0m \u001b[0mvalue\u001b[0m\u001b[0;34m)\u001b[0m \u001b[0;34m->\u001b[0m \u001b[0;32mNone\u001b[0m\u001b[0;34m:\u001b[0m\u001b[0;34m\u001b[0m\u001b[0;34m\u001b[0m\u001b[0m\n",
      "\u001b[0;31mAttributeError\u001b[0m: 'DataFrame' object has no attribute 'desc'"
     ]
    }
   ],
   "source": [
    "# store the list to a pandas dataframe\n",
    "\n",
    "df = pd.DataFrame(best_sellers, columns=['book', 'author', 'original_language', 'first_published', 'approximate_sales', 'genre'])\n",
    "df = df.dropna(how='all').reset_index(drop=True)"
   ]
  },
  {
   "cell_type": "code",
   "execution_count": 31,
   "id": "904eff96",
   "metadata": {},
   "outputs": [],
   "source": [
    "# write the dataframe to a csv file \n",
    "\n",
    "df.to_csv('Wikipedia_Best_Sellers.txt')"
   ]
  },
  {
   "cell_type": "code",
   "execution_count": 25,
   "id": "26c59059",
   "metadata": {},
   "outputs": [
    {
     "ename": "TypeError",
     "evalue": "'DataFrame' object is not callable",
     "output_type": "error",
     "traceback": [
      "\u001b[0;31m---------------------------------------------------------------------------\u001b[0m",
      "\u001b[0;31mTypeError\u001b[0m                                 Traceback (most recent call last)",
      "\u001b[0;32m<ipython-input-25-452147330dcf>\u001b[0m in \u001b[0;36m<module>\u001b[0;34m\u001b[0m\n\u001b[0;32m----> 1\u001b[0;31m \u001b[0mdf\u001b[0m\u001b[0;34m(\u001b[0m\u001b[0mdf\u001b[0m\u001b[0;34m(\u001b[0m\u001b[0;34m[\u001b[0m\u001b[0;34m\"book\"\u001b[0m\u001b[0;34m]\u001b[0m \u001b[0;34m==\u001b[0m \u001b[0;34m'Girl with the Dragon Tattoo'\u001b[0m\u001b[0;34m)\u001b[0m\u001b[0;34m)\u001b[0m\u001b[0;34m\u001b[0m\u001b[0;34m\u001b[0m\u001b[0m\n\u001b[0m",
      "\u001b[0;31mTypeError\u001b[0m: 'DataFrame' object is not callable"
     ]
    }
   ],
   "source": []
  },
  {
   "cell_type": "code",
   "execution_count": 34,
   "id": "0eeb70ac",
   "metadata": {},
   "outputs": [],
   "source": [
    "top_books = df[(df[\"book\"] =='To Kill a Mockingbird') |\n",
    "         (df[\"book\"] =='The Book Thief')|\n",
    "         (df[\"book\"] =='The Da Vinci Code')|\n",
    "         (df[\"book\"] =='The Little Prince')|\n",
    "         (df[\"book\"] =='Life of Pi')|\n",
    "         (df[\"book\"] =='Harry Potter and the Deathly Hallows')|\n",
    "         (df[\"book\"] =='The Girl with the Dragon Tattoo (M√§n som hatar kvinnor)')]\n"
   ]
  },
  {
   "cell_type": "code",
   "execution_count": 35,
   "id": "dcaa2c23",
   "metadata": {},
   "outputs": [
    {
     "data": {
      "text/html": [
       "<div>\n",
       "<style scoped>\n",
       "    .dataframe tbody tr th:only-of-type {\n",
       "        vertical-align: middle;\n",
       "    }\n",
       "\n",
       "    .dataframe tbody tr th {\n",
       "        vertical-align: top;\n",
       "    }\n",
       "\n",
       "    .dataframe thead th {\n",
       "        text-align: right;\n",
       "    }\n",
       "</style>\n",
       "<table border=\"1\" class=\"dataframe\">\n",
       "  <thead>\n",
       "    <tr style=\"text-align: right;\">\n",
       "      <th></th>\n",
       "      <th>book</th>\n",
       "      <th>author</th>\n",
       "      <th>original_language</th>\n",
       "      <th>first_published</th>\n",
       "      <th>approximate_sales</th>\n",
       "      <th>genre</th>\n",
       "    </tr>\n",
       "  </thead>\n",
       "  <tbody>\n",
       "    <tr>\n",
       "      <th>2</th>\n",
       "      <td>The Little Prince</td>\n",
       "      <td>Antoine de Saint-Exupéry</td>\n",
       "      <td>French</td>\n",
       "      <td>1943</td>\n",
       "      <td>100 million[20]</td>\n",
       "      <td>Novella</td>\n",
       "    </tr>\n",
       "    <tr>\n",
       "      <th>8</th>\n",
       "      <td>The Da Vinci Code</td>\n",
       "      <td>Dan Brown</td>\n",
       "      <td>English</td>\n",
       "      <td>2003</td>\n",
       "      <td>80 million[26]</td>\n",
       "      <td>Mystery thriller</td>\n",
       "    </tr>\n",
       "    <tr>\n",
       "      <th>14</th>\n",
       "      <td>Harry Potter and the Deathly Hallows</td>\n",
       "      <td>J. K. Rowling</td>\n",
       "      <td>English</td>\n",
       "      <td>2007</td>\n",
       "      <td>65 million[28]</td>\n",
       "      <td>Fantasy</td>\n",
       "    </tr>\n",
       "    <tr>\n",
       "      <th>36</th>\n",
       "      <td>To Kill a Mockingbird</td>\n",
       "      <td>Harper Lee</td>\n",
       "      <td>English</td>\n",
       "      <td>1960</td>\n",
       "      <td>40 million[52]</td>\n",
       "      <td></td>\n",
       "    </tr>\n",
       "    <tr>\n",
       "      <th>104</th>\n",
       "      <td>The Book Thief</td>\n",
       "      <td>Markus Zusak</td>\n",
       "      <td>English</td>\n",
       "      <td>2005</td>\n",
       "      <td>16 million [115]</td>\n",
       "      <td>None</td>\n",
       "    </tr>\n",
       "    <tr>\n",
       "      <th>158</th>\n",
       "      <td>Life of Pi</td>\n",
       "      <td>Yann Martel</td>\n",
       "      <td>English</td>\n",
       "      <td>2001</td>\n",
       "      <td>10 million[167]</td>\n",
       "      <td>None</td>\n",
       "    </tr>\n",
       "  </tbody>\n",
       "</table>\n",
       "</div>"
      ],
      "text/plain": [
       "                                     book                    author  \\\n",
       "2                       The Little Prince  Antoine de Saint-Exupéry   \n",
       "8                       The Da Vinci Code                 Dan Brown   \n",
       "14   Harry Potter and the Deathly Hallows             J. K. Rowling   \n",
       "36                  To Kill a Mockingbird                Harper Lee   \n",
       "104                        The Book Thief              Markus Zusak   \n",
       "158                            Life of Pi               Yann Martel   \n",
       "\n",
       "    original_language first_published approximate_sales             genre  \n",
       "2              French            1943   100 million[20]           Novella  \n",
       "8             English            2003    80 million[26]  Mystery thriller  \n",
       "14            English            2007    65 million[28]           Fantasy  \n",
       "36            English            1960    40 million[52]                    \n",
       "104           English            2005  16 million [115]              None  \n",
       "158           English            2001   10 million[167]              None  "
      ]
     },
     "execution_count": 35,
     "metadata": {},
     "output_type": "execute_result"
    }
   ],
   "source": [
    "top_books"
   ]
  },
  {
   "cell_type": "code",
   "execution_count": null,
   "id": "ab407639",
   "metadata": {},
   "outputs": [],
   "source": []
  }
 ],
 "metadata": {
  "kernelspec": {
   "display_name": "Python 3",
   "language": "python",
   "name": "python3"
  },
  "language_info": {
   "codemirror_mode": {
    "name": "ipython",
    "version": 3
   },
   "file_extension": ".py",
   "mimetype": "text/x-python",
   "name": "python",
   "nbconvert_exporter": "python",
   "pygments_lexer": "ipython3",
   "version": "3.8.8"
  }
 },
 "nbformat": 4,
 "nbformat_minor": 5
}
